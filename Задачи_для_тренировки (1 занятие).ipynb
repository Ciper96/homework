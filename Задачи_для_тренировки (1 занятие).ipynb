{
 "cells": [
  {
   "cell_type": "markdown",
   "metadata": {
    "colab_type": "text",
    "id": "view-in-github"
   },
   "source": [
    "<a href=\"https://colab.research.google.com/github/AnnSenina/Python_for_DH_2023/blob/main/notebooks/%D0%97%D0%B0%D0%B4%D0%B0%D1%87%D0%B8_%D0%B4%D0%BB%D1%8F_%D1%82%D1%80%D0%B5%D0%BD%D0%B8%D1%80%D0%BE%D0%B2%D0%BA%D0%B8.ipynb\" target=\"_parent\"><img src=\"https://colab.research.google.com/assets/colab-badge.svg\" alt=\"Open In Colab\"/></a>"
   ]
  },
  {
   "cell_type": "markdown",
   "metadata": {
    "id": "5S4tVb6WaklD"
   },
   "source": [
    "# Уважаемые слушатели курса,\n",
    "\n",
    "скопируйте блокнот себе на диск перед тем, как начать решать.\n",
    "\n",
    "Для этого нажимаем:\n",
    "\n",
    "**Файл - сохранить копию на Диске**\n",
    "\n",
    "После решения задач можно отправить мне доступ к вашему блокноту:\n",
    "\n",
    "Справа вверху:\n",
    "\n",
    "**Поделиться** - можно вписать мою почту **ann.sotn@gmail.com**"
   ]
  },
  {
   "cell_type": "markdown",
   "metadata": {
    "id": "t-x6s6HkZNau"
   },
   "source": [
    "# Задача 1"
   ]
  },
  {
   "cell_type": "markdown",
   "metadata": {
    "id": "lSbBrrpcWJFi"
   },
   "source": [
    "Витя пошёл в магазин за карандашами, каждый из которых стоит N рублей. Всего Витя готов потратить на карандаши M рублей. Укажите, сколько карандашей он сможет купить и сколько денег у него останется в итоге.\n",
    "\n",
    "Пример:\n",
    "\n",
    "n = 19\n",
    "\n",
    "m = 100\n",
    "\n",
    "Ответ:\n",
    "\n",
    "5 карандашей\n",
    "\n",
    "останется 5 рублей\n",
    "\n",
    "Напишите условие через **input** для n и m"
   ]
  },
  {
   "cell_type": "code",
   "execution_count": 18,
   "metadata": {
    "id": "8FfoZDakWIk0"
   },
   "outputs": [
    {
     "name": "stdout",
     "output_type": "stream",
     "text": [
      "Ответ:\n",
      "5 карандашей\n",
      "останется 5 рублей\n"
     ]
    }
   ],
   "source": [
    "# ваше решение здесь\n",
    "n = 19\n",
    "m = 100\n",
    "\n",
    "print(\"Ответ:\")\n",
    "print(str(m // n) + \" карандашей\")\n",
    "print(\"останется {} рублей\".format(m % n))"
   ]
  },
  {
   "cell_type": "markdown",
   "metadata": {
    "id": "86jVQzV0ZQXU"
   },
   "source": [
    "# Задача 2"
   ]
  },
  {
   "cell_type": "markdown",
   "metadata": {
    "id": "5_FkATocWpWu"
   },
   "source": [
    "В XIX и XX веках при передаче телеграмм оплачивался каждый символ. Помогите спланировать стоимость телеграммы, подсчитав и написав на экране, из скольких символов состоит ее текст.\n",
    "\n",
    "Ответ напечатайте в формате:\n",
    "\n",
    "В телеграмме \"Умоляю верить брошен Ялту гипнозом Воланда молнируйте угрозыску подтверждение личности Лиходеев\" *количество* символов.\n"
   ]
  },
  {
   "cell_type": "code",
   "execution_count": 9,
   "metadata": {
    "id": "vsEoruCcWpA9"
   },
   "outputs": [
    {
     "name": "stdout",
     "output_type": "stream",
     "text": [
      "В телеграмме \"Умоляю верить брошен Ялту гипнозом Воланда молнируйте угрозыску подтверждение личности Лиходеев\" 95 символов\n"
     ]
    }
   ],
   "source": [
    "telegram = 'Умоляю верить брошен Ялту гипнозом Воланда молнируйте угрозыску подтверждение личности Лиходеев'\n",
    "# ваше решение здесь\n",
    "print('В телеграмме \"' + telegram + '\" ' + str(len(telegram)) + \" символов\" )"
   ]
  },
  {
   "cell_type": "markdown",
   "metadata": {
    "id": "JASbW3V2ZS8C"
   },
   "source": [
    "# Задача 3"
   ]
  },
  {
   "cell_type": "markdown",
   "metadata": {
    "id": "G9cqk1jMXRRt"
   },
   "source": [
    "В компании Contoso решили поменять стандарт записей в телефонном справочнике, вместо телефонных номеров вида 18005550123 решили использовать номера вида +1(800) 555-01-23. Помогите секретарям компании записать номера в новом формате.\n",
    "\n",
    "Старый формат: 12345678910\n",
    "\n",
    "Новый формат: +1(234) 567-89-10\n",
    "\n",
    "Напишите условие через **input** для ввода номера телефона в старом формате\n",
    "\n",
    "В качестве ответа напечатайте номер в новом формате"
   ]
  },
  {
   "cell_type": "code",
   "execution_count": 14,
   "metadata": {
    "id": "FFLHbjuTXKk8"
   },
   "outputs": [
    {
     "name": "stdout",
     "output_type": "stream",
     "text": [
      "Введите телефонный номер в старом формате: 12345678910\n",
      "+1(234)567-89-10\n"
     ]
    }
   ],
   "source": [
    "# ваше решение здесь\n",
    "number = input(\"Введите телефонный номер в старом формате: \")\n",
    "print(\"+\" + number[0] + \"(\" + number[1:4] + \")\" + number[4:7] + \"-\" + number[7:9] + \"-\" + number[9:11])"
   ]
  },
  {
   "cell_type": "markdown",
   "metadata": {
    "id": "UwdVkuh8ZdEN"
   },
   "source": [
    "# Задача 4"
   ]
  },
  {
   "cell_type": "markdown",
   "metadata": {
    "id": "bP_nuqAPXoCL"
   },
   "source": [
    "Алиса, попав в Зазеркалье, увидела, что все слова написаны задом наперёд: вместо слова “МИР” написано “РИМ”, вместо “ГОД” — “ДОГ”. Помогите ей прочитать написанные тексты, написав программу, которая будет выводить слова в обратном порядке. Известно, что в строке, с которой работает программа, ровно 3 буквы.\n",
    "\n",
    "Напишите условие через **input** для ввода слова, в качестве ответа напечатайте его перевод (слово в обратном порядке)\n"
   ]
  },
  {
   "cell_type": "code",
   "execution_count": 41,
   "metadata": {
    "id": "9vnsyyKbXr0U"
   },
   "outputs": [
    {
     "name": "stdout",
     "output_type": "stream",
     "text": [
      "Введите текст: РИМ\n",
      "МИР\n"
     ]
    }
   ],
   "source": [
    "# ваше решение здесь\n",
    "text = input(\"Введите текст: \")\n",
    "print(text[::-1])"
   ]
  },
  {
   "cell_type": "markdown",
   "metadata": {
    "id": "YkGVndAmZnpY"
   },
   "source": [
    "# Задача 5"
   ]
  },
  {
   "cell_type": "markdown",
   "metadata": {
    "id": "x2WMYI40YQ9-"
   },
   "source": [
    "Вы хотите проверить, счастливый ли билет вам доставлся в автобусе. Счастливым считается билет, у которого сумма первых трех цифр равно сумме последних трех цифр\n",
    "\n",
    "Напишите программу, которая получает на вход номер билета из 6 цифр через **input**, затем сравнивает суммы трех первых и трех последних чисел\n",
    "\n",
    "В результате напечатайте True, если билет счастливый"
   ]
  },
  {
   "cell_type": "code",
   "execution_count": 17,
   "metadata": {
    "id": "EUBKt_gSYrmR"
   },
   "outputs": [
    {
     "name": "stdout",
     "output_type": "stream",
     "text": [
      "Введите номер билета: 481516\n",
      "Билет несчастливый :(\n"
     ]
    }
   ],
   "source": [
    "# ваше решение здесь\n",
    "number = input(\"Введите номер билета: \")\n",
    "\n",
    "sum_number1 = int(number[0]) + int(number[1]) + int(number[2])\n",
    "sum_number2 = int(number[3]) + int(number[4]) + int(number[5])\n",
    "\n",
    "if sum_number1 == sum_number2:\n",
    "    print(\"Билет счастливый!\")\n",
    "    \n",
    "else:\n",
    "    print(\"Билет несчастливый :(\")"
   ]
  },
  {
   "cell_type": "markdown",
   "metadata": {
    "id": "ldnEhUaMZ9fy"
   },
   "source": [
    "# Задача 6"
   ]
  },
  {
   "cell_type": "markdown",
   "metadata": {
    "id": "EIA8za-AGrpL"
   },
   "source": [
    "Вы подаете статью в журнал [Journal of Digital History](https://journalofdigitalhistory.org/en/), но журнал принимает небольшие статьи - 250 символов аннотации и 10000 символов текста.\n",
    "\n",
    "Проверьте, можно ли отправить такую статью в журнал (посчитайте длину аннотации и текста и сравните с требованиями. Используйте оператор and)"
   ]
  },
  {
   "cell_type": "code",
   "execution_count": 19,
   "metadata": {
    "id": "n6h0lEtXGgAM"
   },
   "outputs": [
    {
     "name": "stdout",
     "output_type": "stream",
     "text": [
      "Отправить нельзя :(\n"
     ]
    }
   ],
   "source": [
    "annotation = 'The history of virtual museums began long before the appearance of web-museums on the Internet. Its trajectory is associated with the deepening and intensification of the use of information technologies in various areas of museums. The modern information environment has reached a high level of development, and users can now have many varied experiences online in order to engage with digital cultural heritage.'\n",
    "text = 'It is very difficult to give a modern definition of the term “virtual museum”, since an updated definition of the term “museum” is still under development by ICOM. A group of experts working on a large European VIMM project gave the following definition of the concept of \"virtual museum\" as “a digital entity that draws on the characteristics of a museum, in order to complement, enhance, or augment the museum through personalization, interactivity, user experience and richness of content” [1]. The digital history of virtual museums has been previously considered from different perspectives. Erkki Huhtamo’s article is noteworthy as leading the early history of virtual museums from the pre-digital era and changing the way they look at exhibition design [2]. Paul L. Arthur approached the comprehension of the history of virtual museums from the point of view of the role and importance of interactivity, increasing the ability of the user to receive diverse experience in the online environment [3]. It should be noted that the history of virtual museums has been formerly examined in a global context, while this work is devoted to the peculiarities of the history of virtual museums in the post-Soviet space. The focus of this study is virtual museums in the post-Soviet space, which includes the former Soviet republics that left the USSR after its collapse in 1991. The main source for studying the digital history of virtual museums has become the resources of web archives. The Museum.ru resource, snapshots of which are presented in WayBack Machine [4], has become an important source of information for studying Russian museum web space. The site was created as a platform for museums, allowing each museum to create its own webmuseum resource with a wide range of capabilities. The specified aggregator contains statistics on such web resources, which is presented in the diagram below (Fig. 1): 2 Figure 1. Russian museum web-sources in the dynamics (1997-2019), based on Museum.ru statistics It should be noted that the initial policy of this site was to provide space on the platform to any organization claiming to be a “virtual museum”. Until 2003 many private initiatives were placed there and they were not related to the GLAM industry. Since 2003, only web resources of actual existing museums of Russia have remained in the catalog (no statistics were available for 2000). As a result of the work on the project, the following main features of the history of virtual museums of the post-Soviet space can be highlighted: First, during the existence of the USSR, the experience of using information technologies in museums was limited to separate experiments of documenting individual collections (for example, the Hermitage developed an information system for data processing of antique art bronze and petroglyphs of Central Asia). With the collapse of the USSR, the globalization of the market in the post-Soviet space, and the widespread penetration of computers and software from Western countries, it was necessary to abandon partially the accumulated experience due to the technical incompatibility of Soviet technologies with the new foreign hardware and software. Whereas European and North-American countries actively used multimedia content, making it the central element of virtual museums online, in the post-Soviet space multimedia rarely went into the virtual space, firmly entrenched in the commercial sector with access to CDs. Secondly, since the beginning of the Internet era, non-profit and philantropic organizations that support and stimulate the development of this sector, in particular the non-profit partnership “Museum Automation and Information Technology” (ADIT), have been significant in the 3 development of the museum environment. Non-governmental grant organizations support the community of museum professionals in the post-Soviet space, introducing innovations in museums and developing virtual museums. Among the countries studied, Russia has one of the leading positions in the development of a virtual museum space in technological and innovation terms. Thirdly, the representation of museum collections has gone from simple illustrations and museum narrative on exhibition topics to digital catalogs with a wide range of search possibilities, digital excursions and museum storytelling. An issue to note is the limited work with open licenses for the use of digital objects, which complicates the wider use of collections. Fourth, searches for the digital identity of virtual museums in different countries of the postSoviet space, as well as an analysis of the visual images used, demonstrate a certain degree of dependence on the official political discourse. This is most acute in Russian and Ukrainian virtual museums of history, which showed a change of images after the events of 2014 and the aggravation of inter-state relations. In general, the digital history of the virtual museums of the former Soviet Union shows that the most advanced virtual museums have a long digital history, such as The Pushkin State Museum of Fine Arts. The general level of virtual museums is significantly behind those globally in the quality of digitization, the methods of storytelling in web museums, and the creation of an audience-oriented digital content. At the same time, history shows that it is possible to adopt the positive experience of leading museums for effective further development. References [1] Virtual Multimodal Museum. ViMM Plus. URL: https://www.vi-mm.eu/2018/01/10/thevimm-definition-of-a-virtual-museum, last accessed: 10/06/2020 [2] Huhtamo, E. (2002) On the Origins of the Virtual Museum, Nobel Symposium “Virtual Museums and Public Understanding of Science and Culture” May 26-29, 2002, Stockholm. [3] Arthur P. L. (2018). Engaging Collections and Communities: Technology and Interactivity in Museums. In Proceedings of the Digital Humanities in the Nordic Countries. 3-rd Conference, Helsinki, Finland, March 7-9, 2018. Pp. 250-262. [4] WayBack Machine. Internet Archive. last accessed: 10/06/2020'\n",
    "# ваше решение здесь\n",
    "if len(annotation) <= 250 and len(text) <= 10000:\n",
    "    print(\"Можно отправить!\")\n",
    "else:\n",
    "    print(\"Отправить нельзя :(\")\n",
    "    "
   ]
  },
  {
   "cell_type": "markdown",
   "metadata": {
    "id": "S8QuIMbOZ_xy"
   },
   "source": [
    "# Задача 7"
   ]
  },
  {
   "cell_type": "markdown",
   "metadata": {
    "id": "o1cAqGCSQorK"
   },
   "source": [
    "Вы администрируете сайт и, при регистрации новых пользователей, проверяете, что их пароли состоят из не менее, чем 8 символов, а также не содержат год рождения пользователя и слово 'password'.\n",
    "\n",
    "Проверьте, соответсвуют ли требованиям пароли:"
   ]
  },
  {
   "cell_type": "code",
   "execution_count": null,
   "metadata": {
    "colab": {
     "base_uri": "https://localhost:8080/"
    },
    "id": "OfFOqYgYQoMK",
    "outputId": "9a106204-c33c-4536-981e-c30ecc5cb96d"
   },
   "outputs": [
    {
     "name": "stdout",
     "output_type": "stream",
     "text": [
      "True\n"
     ]
    }
   ],
   "source": [
    "#в качестве решения получите ответ True или False для каждого пароля\n",
    "#подсказка:\n",
    "print(str(1990) in 'pass1990word') # получим значение истина или ложь"
   ]
  },
  {
   "cell_type": "code",
   "execution_count": 22,
   "metadata": {
    "id": "17fgYbSo8H2M"
   },
   "outputs": [
    {
     "name": "stdout",
     "output_type": "stream",
     "text": [
      "Успешно!\n",
      "Пароль не подходит!\n",
      "Успешно!\n"
     ]
    }
   ],
   "source": [
    "password_1 = '1990pass'\n",
    "year_1 = 1995 #год рождения\n",
    "# ваше решение\n",
    "if str(year_1) in password_1 or \"password\" in password_1 or len(password_1) < 8:\n",
    "    print(\"Пароль не подходит!\")\n",
    "else:\n",
    "    print(\"Успешно!\")\n",
    "\n",
    "\n",
    "password_2 = '02051980'\n",
    "year_2 = 1980\n",
    "# ваше решение\n",
    "if str(year_2) in password_2 or \"password\" in password_1 or len(password_1) < 8:\n",
    "    print(\"Пароль не подходит!\")\n",
    "else:\n",
    "    print(\"Успешно!\")\n",
    "\n",
    "password_3 = 'digitH'\n",
    "year_3 = 1968\n",
    "# ваше решение\n",
    "if str(year_3) in password_3 or \"password\" in password_1 or len(password_1) < 8:\n",
    "    print(\"Пароль не подходит!\")\n",
    "else:\n",
    "    print(\"Успешно!\")"
   ]
  },
  {
   "cell_type": "markdown",
   "metadata": {
    "id": "LB21iHRWaeBW"
   },
   "source": [
    "# Задача 8"
   ]
  },
  {
   "cell_type": "markdown",
   "metadata": {
    "id": "E4EWynvY9JKG"
   },
   "source": [
    "Рассчитайте стоимость смс-сообщения ниже, если цена 1 сообщения из 70 символов 3 рубля"
   ]
  },
  {
   "cell_type": "code",
   "execution_count": 30,
   "metadata": {
    "id": "kTpQgsz19KUN"
   },
   "outputs": [
    {
     "name": "stdout",
     "output_type": "stream",
     "text": [
      "Стоимость СМС: 4.41 рубля\n"
     ]
    }
   ],
   "source": [
    "price = 3\n",
    "sms = 'Я изучаю Python для Digital Humanities и освоил переменные, простые типы данных, операторы ввода/вывода'\n",
    "# ваше решение здесь\n",
    "print(\"Стоимость СМС: \" + str(round((len(sms) / 70 * price), 2)) + \" рубля\")"
   ]
  },
  {
   "cell_type": "markdown",
   "metadata": {
    "id": "WT_KVHVraJcD"
   },
   "source": [
    "# Задача 9"
   ]
  },
  {
   "cell_type": "markdown",
   "metadata": {
    "id": "kGy2DogjN3VH"
   },
   "source": [
    "Вы программируете голосового помощника, который автоматически принимает показания счетчиков по телефону\n",
    "\n",
    "Голосовой помощник должен дать инструкцию (например:\n",
    "\n",
    "* Приветстивие. назовите номер договора;\n",
    "* запрос данных на вход input()\n",
    "* номер вашего договора: ____ (голосовой помощник повторяет то, что услышал). Назовите текущие показания счетчика горячей воды\n",
    "* запрос данных на вход input()\n",
    "* показания счетчика: _____. Назовите текущие показания счетчика холодной воды.\n",
    "* запрос данных на вход input()\n",
    "* показания счетчика: _____. Ваши показания приняты. Прощание\n",
    "\n",
    "Напишите такую инструкцию. Важно, чтобы голосовой помощник считал ответы и сразу превратил их в числа\n"
   ]
  },
  {
   "cell_type": "code",
   "execution_count": 31,
   "metadata": {
    "id": "8lessJ6TNyLL"
   },
   "outputs": [
    {
     "name": "stdout",
     "output_type": "stream",
     "text": [
      "Добрый день! Напишите, пожалуйста, номер договора: 481516\n",
      "Номер вашего договора: 481516. Напишите, пожалуйста, текущие показания счётчика горячей воды: 1567\n",
      "Показания счётчика горячей воды: 1567. Напишите, пожалуйста, показания счётчика холодной воды: 7875\n",
      "Показания счётчика холодной воды: 7875. Ваши показания приняты. Всего доброго!\n"
     ]
    }
   ],
   "source": [
    "# ваше решение здесь\n",
    "number = input(\"Добрый день! Напишите, пожалуйста, номер договора: \")\n",
    "counter_hot = input(\"Номер вашего договора: \" + number + \". Напишите, пожалуйста, текущие показания счётчика горячей воды: \")\n",
    "counter_cold = input(\"Показания счётчика горячей воды: \" + counter_hot + \". Напишите, пожалуйста, показания счётчика холодной воды: \")\n",
    "print(\"Показания счётчика холодной воды: \" + counter_cold + \". Ваши показания приняты. Всего доброго!\")"
   ]
  },
  {
   "cell_type": "markdown",
   "metadata": {
    "id": "99FPKEW4afsy"
   },
   "source": [
    "# Задача 10"
   ]
  },
  {
   "cell_type": "markdown",
   "metadata": {
    "id": "rPyH9aNXT7Ks"
   },
   "source": [
    "У вас есть шаблон письма, переделайте его таким образом, чтобы можно было отправить его участнику другого пола:\n",
    "\n",
    "Уважаемый Александр Сергеевич, Ваш доклад \"Python for Digital Humanities\" включен в программу XXIV Ясинской (Апрельской) международной научной конференции по проблемам развития экономики и общества."
   ]
  },
  {
   "cell_type": "code",
   "execution_count": 40,
   "metadata": {
    "id": "mQZrbXpDUX-C"
   },
   "outputs": [
    {
     "name": "stdout",
     "output_type": "stream",
     "text": [
      "Является ли адресат лицом женского пола? Наберите 'Да' или 'Нет': Да\n",
      "Уважаемая Арина Родионовна, Ваш доклад \"Python for Digital Humanities\" включен в программу XXIV Ясинской (Апрельской) международной научной конференции по проблемам развития экономики и общества.\n"
     ]
    }
   ],
   "source": [
    "name = 'Арина Родионовна'\n",
    "letter = 'Уважаемый Александр Сергеевич, Ваш доклад \"Python for Digital Humanities\" включен в программу XXIV Ясинской (Апрельской) международной научной конференции по проблемам развития экономики и общества.'\n",
    "# ваше решение здесь\n",
    "question = input(\"Является ли адресат лицом женского пола? Наберите 'Да' или 'Нет': \").lower\n",
    "\n",
    "if question != \"да\":\n",
    "    letter = letter.replace(\"Уважаемый\", \"Уважаемая\")\n",
    "    print(letter.replace(\"Александр Сергеевич\", name))\n",
    "else:\n",
    "    print(letter.replace(\"Александр Сергеевич\", name))"
   ]
  },
  {
   "cell_type": "code",
   "execution_count": null,
   "metadata": {},
   "outputs": [],
   "source": []
  }
 ],
 "metadata": {
  "colab": {
   "include_colab_link": true,
   "provenance": []
  },
  "kernelspec": {
   "display_name": "Python 3 (ipykernel)",
   "language": "python",
   "name": "python3"
  },
  "language_info": {
   "codemirror_mode": {
    "name": "ipython",
    "version": 3
   },
   "file_extension": ".py",
   "mimetype": "text/x-python",
   "name": "python",
   "nbconvert_exporter": "python",
   "pygments_lexer": "ipython3",
   "version": "3.11.5"
  }
 },
 "nbformat": 4,
 "nbformat_minor": 1
}
